{
 "cells": [
  {
   "cell_type": "markdown",
   "metadata": {},
   "source": [
    "Steps taken for summary\n",
    "\n",
    "\n",
    "\n",
    ". Description of the Dataset and an Explanation of the model\n",
    ". Importing necessary libraries\n",
    ". Loading Stock Prices\n",
    ". Reviewing Summary Statistics to check for cleaning requirements\n",
    ". Single stock. Citigroup, data exploration\n",
    ". Visualizing some larger slices of the dataset to put our single stock analysis into context \n",
    ". Exploring the January Effect\n",
    ". Exploring the stock, Google, that is the subject of the model\n",
    ". Framing Google prices in terms of the most relevant competitors in terms of open and close prices as well as volume\n",
    ". Creating a new Dataframe for just Google stock data\n",
    ". Normalizing the data using MinMax Scaling and viewing the resulting price graph\n",
    ". Creating the train/test split of the data in a 80/20 ratio\n",
    ". Using only 2 cases of RNN models, running 5 instances of neural networks to make price predctions.  \n",
    ". Reviwing model performance using MSE as a measure of accuracy\n",
    ". Business review and recomendations\n",
    ". Additional analysis possibilities for future work"
   ]
  },
  {
   "cell_type": "markdown",
   "metadata": {},
   "source": []
  },
  {
   "cell_type": "markdown",
   "metadata": {},
   "source": []
  }
 ],
 "metadata": {
  "kernelspec": {
   "display_name": "Python [conda env:learn-env] *",
   "language": "python",
   "name": "conda-env-learn-env-py"
  },
  "language_info": {
   "codemirror_mode": {
    "name": "ipython",
    "version": 3
   },
   "file_extension": ".py",
   "mimetype": "text/x-python",
   "name": "python",
   "nbconvert_exporter": "python",
   "pygments_lexer": "ipython3",
   "version": "3.6.6"
  }
 },
 "nbformat": 4,
 "nbformat_minor": 2
}
