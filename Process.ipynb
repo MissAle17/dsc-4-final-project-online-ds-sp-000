{
 "cells": [
  {
   "cell_type": "markdown",
   "metadata": {},
   "source": [
    "Steps taken for summary\n",
    "\n",
    "\n",
    "\n",
    ". Description of the Dataset and an Explanation of the model\n",
    ". Importing necessary libraries\n",
    "\n",
    ". making subfolders?\n",
    "\n",
    ". Loading Stock Prices\n",
    ". Reviewing Summary Statistics to check for cleaning requirements\n",
    ". Single stock. Citigroup, data exploration\n",
    ". Visualizing some larger slices of the dataset to put our single stock analysis into context \n",
    ". "
   ]
  },
  {
   "cell_type": "markdown",
   "metadata": {},
   "source": []
  },
  {
   "cell_type": "markdown",
   "metadata": {},
   "source": []
  }
 ],
 "metadata": {
  "kernelspec": {
   "display_name": "Python [conda env:learn-env] *",
   "language": "python",
   "name": "conda-env-learn-env-py"
  },
  "language_info": {
   "codemirror_mode": {
    "name": "ipython",
    "version": 3
   },
   "file_extension": ".py",
   "mimetype": "text/x-python",
   "name": "python",
   "nbconvert_exporter": "python",
   "pygments_lexer": "ipython3",
   "version": "3.6.6"
  }
 },
 "nbformat": 4,
 "nbformat_minor": 2
}
